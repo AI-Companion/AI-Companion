{
  "nbformat": 4,
  "nbformat_minor": 0,
  "metadata": {
    "colab": {
      "name": "named_entity_recognition.ipynb",
      "provenance": [],
      "collapsed_sections": []
    },
    "kernelspec": {
      "name": "python3",
      "display_name": "Python 3"
    },
    "accelerator": "GPU"
  },
  "cells": [
    {
      "cell_type": "code",
      "metadata": {
        "id": "AkEMQ70PEPrH",
        "colab_type": "code",
        "colab": {}
      },
      "source": [
        "! git clone https://github.com/mmarouen/marabou\n",
        "% cd marabou\n",
        "import os\n",
        "os.environ['PYTHONPATH'] += \":/content/marabou\"\n",
        "! pip install git+https://www.github.com/keras-team/keras-contrib.git"
      ],
      "execution_count": 0,
      "outputs": []
    },
    {
      "cell_type": "code",
      "metadata": {
        "id": "ogZGMuO6H2nw",
        "colab_type": "code",
        "colab": {}
      },
      "source": [
        "! python marabou/scripts/train_named_entity_recognition.py"
      ],
      "execution_count": 0,
      "outputs": []
    }
  ]
}