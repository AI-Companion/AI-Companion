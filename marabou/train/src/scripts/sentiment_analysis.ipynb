{
  "nbformat": 4,
  "nbformat_minor": 0,
  "metadata": {
    "colab": {
      "name": "sentiment_analysis.ipynb",
      "provenance": [],
      "collapsed_sections": []
    },
    "kernelspec": {
      "name": "python3",
      "display_name": "Python 3"
    },
    "accelerator": "GPU"
  },
  "cells": [
    {
      "cell_type": "markdown",
      "metadata": {
        "id": "5dlZY8ZFcSC4",
        "colab_type": "text"
      },
      "source": [
        "## Clone repo and run training script"
      ]
    },
    {
      "cell_type": "code",
      "metadata": {
        "id": "0UyLx9jxHy21",
        "colab_type": "code",
        "colab": {
          "base_uri": "https://localhost:8080/",
          "height": 156
        },
        "outputId": "297f36a4-fcbe-491e-f50b-1164c40d47e3"
      },
      "source": [
        "! git clone https://github.com/mmarouen/marabou\n",
        "% cd marabou\n",
        "import os\n",
        "os.environ['PYTHONPATH'] += \":/content/marabou/marabou/train/\"\n",
        "os.environ['MARABOU_HOME'] = \"/content/marabou\""
      ],
      "execution_count": null,
      "outputs": [
        {
          "output_type": "stream",
          "text": [
            "Cloning into 'marabou'...\n",
            "remote: Enumerating objects: 44, done.\u001b[K\n",
            "remote: Counting objects: 100% (44/44), done.\u001b[K\n",
            "remote: Compressing objects: 100% (33/33), done.\u001b[K\n",
            "remote: Total 10580 (delta 18), reused 24 (delta 11), pack-reused 10536\u001b[K\n",
            "Receiving objects: 100% (10580/10580), 96.49 MiB | 22.52 MiB/s, done.\n",
            "Resolving deltas: 100% (2852/2852), done.\n",
            "/content/marabou\n"
          ],
          "name": "stdout"
        }
      ]
    },
    {
      "cell_type": "code",
      "metadata": {
        "id": "4NQZD8pMlQ6B",
        "colab_type": "code",
        "colab": {
          "base_uri": "https://localhost:8080/",
          "height": 1000
        },
        "outputId": "5592c45e-b30f-486d-9803-e44cfe540d21"
      },
      "source": [
        "!python marabou/train/src/scripts/train_sentiment_analysis.py"
      ],
      "execution_count": null,
      "outputs": [
        {
          "output_type": "stream",
          "text": [
            "Using TensorFlow backend.\n",
            "2020-07-12 12:17:15.620000: I tensorflow/stream_executor/platform/default/dso_loader.cc:44] Successfully opened dynamic library libcudart.so.10.1\n",
            "[nltk_data] Downloading package punkt to /root/nltk_data...\n",
            "[nltk_data]   Package punkt is already up-to-date!\n",
            "[nltk_data] Downloading package stopwords to /root/nltk_data...\n",
            "[nltk_data]   Package stopwords is already up-to-date!\n",
            "===========> imdb dataset collection\n",
            "----> download ongoing\n",
            "data/imdb.tar.gz    100%[===================>]  80.23M  19.9MB/s    in 6.7s    \n",
            "===========> data cleaning\n",
            "----> data cleaning finish\n",
            "===========> data tokenization\n",
            "----> data tokenization finish\n",
            "found 134136 unique tokens\n",
            "features tensor shape  (50000, 250)\n",
            "===========> data split\n",
            "----> data split finish\n",
            "training features shape  (35000, 250)\n",
            "testing features shape  (15000, 250)\n",
            "training target shape  (35000,)\n",
            "testing target shape  (15000,)\n",
            "===========> collecting pretrained embedding\n",
            "----> download ongoing\n",
            "embeddings/fast_tex 100%[===================>] 650.22M  11.4MB/s    in 64s     \n",
            "----> embedding file saved to /content/marabou/marabou/train/embeddings/wiki-news-300d-1M.vec\n",
            "===========> build model\n",
            "2020-07-12 12:23:35.882677: I tensorflow/stream_executor/platform/default/dso_loader.cc:44] Successfully opened dynamic library libcuda.so.1\n",
            "2020-07-12 12:23:35.981944: I tensorflow/stream_executor/cuda/cuda_gpu_executor.cc:981] successful NUMA node read from SysFS had negative value (-1), but there must be at least one NUMA node, so returning NUMA node zero\n",
            "2020-07-12 12:23:35.982880: I tensorflow/core/common_runtime/gpu/gpu_device.cc:1561] Found device 0 with properties: \n",
            "pciBusID: 0000:00:04.0 name: Tesla K80 computeCapability: 3.7\n",
            "coreClock: 0.8235GHz coreCount: 13 deviceMemorySize: 11.17GiB deviceMemoryBandwidth: 223.96GiB/s\n",
            "2020-07-12 12:23:35.982960: I tensorflow/stream_executor/platform/default/dso_loader.cc:44] Successfully opened dynamic library libcudart.so.10.1\n",
            "2020-07-12 12:23:36.286170: I tensorflow/stream_executor/platform/default/dso_loader.cc:44] Successfully opened dynamic library libcublas.so.10\n",
            "2020-07-12 12:23:36.417225: I tensorflow/stream_executor/platform/default/dso_loader.cc:44] Successfully opened dynamic library libcufft.so.10\n",
            "2020-07-12 12:23:36.442289: I tensorflow/stream_executor/platform/default/dso_loader.cc:44] Successfully opened dynamic library libcurand.so.10\n",
            "2020-07-12 12:23:36.716109: I tensorflow/stream_executor/platform/default/dso_loader.cc:44] Successfully opened dynamic library libcusolver.so.10\n",
            "2020-07-12 12:23:36.736476: I tensorflow/stream_executor/platform/default/dso_loader.cc:44] Successfully opened dynamic library libcusparse.so.10\n",
            "2020-07-12 12:23:37.266307: I tensorflow/stream_executor/platform/default/dso_loader.cc:44] Successfully opened dynamic library libcudnn.so.7\n",
            "2020-07-12 12:23:37.266598: I tensorflow/stream_executor/cuda/cuda_gpu_executor.cc:981] successful NUMA node read from SysFS had negative value (-1), but there must be at least one NUMA node, so returning NUMA node zero\n",
            "2020-07-12 12:23:37.267528: I tensorflow/stream_executor/cuda/cuda_gpu_executor.cc:981] successful NUMA node read from SysFS had negative value (-1), but there must be at least one NUMA node, so returning NUMA node zero\n",
            "2020-07-12 12:23:37.268307: I tensorflow/core/common_runtime/gpu/gpu_device.cc:1703] Adding visible gpu devices: 0\n",
            "2020-07-12 12:23:37.329358: I tensorflow/core/platform/profile_utils/cpu_utils.cc:102] CPU Frequency: 2300000000 Hz\n",
            "2020-07-12 12:23:37.329771: I tensorflow/compiler/xla/service/service.cc:168] XLA service 0x3041b80 initialized for platform Host (this does not guarantee that XLA will be used). Devices:\n",
            "2020-07-12 12:23:37.329811: I tensorflow/compiler/xla/service/service.cc:176]   StreamExecutor device (0): Host, Default Version\n",
            "2020-07-12 12:23:37.429369: I tensorflow/stream_executor/cuda/cuda_gpu_executor.cc:981] successful NUMA node read from SysFS had negative value (-1), but there must be at least one NUMA node, so returning NUMA node zero\n",
            "2020-07-12 12:23:37.430272: I tensorflow/compiler/xla/service/service.cc:168] XLA service 0x30419c0 initialized for platform CUDA (this does not guarantee that XLA will be used). Devices:\n",
            "2020-07-12 12:23:37.430307: I tensorflow/compiler/xla/service/service.cc:176]   StreamExecutor device (0): Tesla K80, Compute Capability 3.7\n",
            "2020-07-12 12:23:37.435043: I tensorflow/stream_executor/cuda/cuda_gpu_executor.cc:981] successful NUMA node read from SysFS had negative value (-1), but there must be at least one NUMA node, so returning NUMA node zero\n",
            "2020-07-12 12:23:37.435800: I tensorflow/core/common_runtime/gpu/gpu_device.cc:1561] Found device 0 with properties: \n",
            "pciBusID: 0000:00:04.0 name: Tesla K80 computeCapability: 3.7\n",
            "coreClock: 0.8235GHz coreCount: 13 deviceMemorySize: 11.17GiB deviceMemoryBandwidth: 223.96GiB/s\n",
            "2020-07-12 12:23:37.435888: I tensorflow/stream_executor/platform/default/dso_loader.cc:44] Successfully opened dynamic library libcudart.so.10.1\n",
            "2020-07-12 12:23:37.435954: I tensorflow/stream_executor/platform/default/dso_loader.cc:44] Successfully opened dynamic library libcublas.so.10\n",
            "2020-07-12 12:23:37.436013: I tensorflow/stream_executor/platform/default/dso_loader.cc:44] Successfully opened dynamic library libcufft.so.10\n",
            "2020-07-12 12:23:37.436087: I tensorflow/stream_executor/platform/default/dso_loader.cc:44] Successfully opened dynamic library libcurand.so.10\n",
            "2020-07-12 12:23:37.436191: I tensorflow/stream_executor/platform/default/dso_loader.cc:44] Successfully opened dynamic library libcusolver.so.10\n",
            "2020-07-12 12:23:37.436243: I tensorflow/stream_executor/platform/default/dso_loader.cc:44] Successfully opened dynamic library libcusparse.so.10\n",
            "2020-07-12 12:23:37.436293: I tensorflow/stream_executor/platform/default/dso_loader.cc:44] Successfully opened dynamic library libcudnn.so.7\n",
            "2020-07-12 12:23:37.436441: I tensorflow/stream_executor/cuda/cuda_gpu_executor.cc:981] successful NUMA node read from SysFS had negative value (-1), but there must be at least one NUMA node, so returning NUMA node zero\n",
            "2020-07-12 12:23:37.437297: I tensorflow/stream_executor/cuda/cuda_gpu_executor.cc:981] successful NUMA node read from SysFS had negative value (-1), but there must be at least one NUMA node, so returning NUMA node zero\n",
            "2020-07-12 12:23:37.438018: I tensorflow/core/common_runtime/gpu/gpu_device.cc:1703] Adding visible gpu devices: 0\n",
            "2020-07-12 12:23:37.443731: I tensorflow/stream_executor/platform/default/dso_loader.cc:44] Successfully opened dynamic library libcudart.so.10.1\n",
            "2020-07-12 12:23:43.040797: I tensorflow/core/common_runtime/gpu/gpu_device.cc:1102] Device interconnect StreamExecutor with strength 1 edge matrix:\n",
            "2020-07-12 12:23:43.040858: I tensorflow/core/common_runtime/gpu/gpu_device.cc:1108]      0 \n",
            "2020-07-12 12:23:43.040880: I tensorflow/core/common_runtime/gpu/gpu_device.cc:1121] 0:   N \n",
            "2020-07-12 12:23:43.050703: I tensorflow/stream_executor/cuda/cuda_gpu_executor.cc:981] successful NUMA node read from SysFS had negative value (-1), but there must be at least one NUMA node, so returning NUMA node zero\n",
            "2020-07-12 12:23:43.051623: I tensorflow/stream_executor/cuda/cuda_gpu_executor.cc:981] successful NUMA node read from SysFS had negative value (-1), but there must be at least one NUMA node, so returning NUMA node zero\n",
            "2020-07-12 12:23:43.056313: W tensorflow/core/common_runtime/gpu/gpu_bfc_allocator.cc:39] Overriding allow_growth setting because the TF_FORCE_GPU_ALLOW_GROWTH environment variable is set. Original config value was 0.\n",
            "2020-07-12 12:23:43.056453: I tensorflow/core/common_runtime/gpu/gpu_device.cc:1247] Created TensorFlow device (/job:localhost/replica:0/task:0/device:GPU:0 with 10634 MB memory) -> physical GPU (device: 0, name: Tesla K80, pci bus id: 0000:00:04.0, compute capability: 3.7)\n",
            "Model: \"model_1\"\n",
            "_________________________________________________________________\n",
            "Layer (type)                 Output Shape              Param #   \n",
            "=================================================================\n",
            "input (InputLayer)           (None, 250)               0         \n",
            "_________________________________________________________________\n",
            "embedding_1 (Embedding)      (None, 250, 300)          15000000  \n",
            "_________________________________________________________________\n",
            "lstm_1 (LSTM)                (None, 64)                93440     \n",
            "_________________________________________________________________\n",
            "dense_1 (Dense)              (None, 250)               16250     \n",
            "_________________________________________________________________\n",
            "dense_2 (Dense)              (None, 1)                 251       \n",
            "=================================================================\n",
            "Total params: 15,109,941\n",
            "Trainable params: 15,109,941\n",
            "Non-trainable params: 0\n",
            "_________________________________________________________________\n",
            "None\n",
            "/usr/local/lib/python3.6/dist-packages/tensorflow/python/framework/indexed_slices.py:434: UserWarning: Converting sparse IndexedSlices to a dense Tensor of unknown shape. This may consume a large amount of memory.\n",
            "  \"Converting sparse IndexedSlices to a dense Tensor of unknown shape. \"\n",
            "Train on 35000 samples, validate on 15000 samples\n",
            "Epoch 1/5\n",
            "2020-07-12 12:23:45.734533: I tensorflow/stream_executor/platform/default/dso_loader.cc:44] Successfully opened dynamic library libcublas.so.10\n",
            " - 209s - loss: 0.6869 - acc: 0.5132 - val_loss: 0.6756 - val_acc: 0.5338\n",
            "Epoch 2/5\n",
            " - 208s - loss: 0.6624 - acc: 0.5333 - val_loss: 0.6742 - val_acc: 0.5403\n",
            "Epoch 3/5\n",
            " - 208s - loss: 0.6023 - acc: 0.6078 - val_loss: 0.4376 - val_acc: 0.8429\n",
            "Epoch 4/5\n",
            " - 206s - loss: 0.3074 - acc: 0.8808 - val_loss: 0.2963 - val_acc: 0.8797\n",
            "Epoch 5/5\n",
            " - 207s - loss: 0.1690 - acc: 0.9410 - val_loss: 0.3014 - val_acc: 0.8899\n",
            "===========> saving learning curve under plots/\n",
            "----> learning curve saved to /content/marabou/marabou/train/perf/sentiment_analysis_20200712_121734_learning_curve.png\n",
            "===========> saving trained model and preprocessor under models/\n",
            "tcmalloc: large alloc 14844985344 bytes == 0x7fa56b96a000 @  0x7fab0d3e71e7 0x7fab0af984d0 0x7fab0af5a796 0x7fab0af5b94f 0x7fab0af5cad3 0x7fab0af746a0 0x7fab0af74b3e 0x7fab0af75395 0x7fab0b00c65d 0x50a635 0x50cd96 0x507d64 0x509a90 0x50a48d 0x50cd96 0x507d64 0x509a90 0x50a48d 0x50cd96 0x507d64 0x588c8b 0x7faadfa61e5c 0x5946bc 0x59fc4e 0x5574f8 0x541ac0 0x50ca54 0x508e55 0x594931 0x59fc4e 0x5574f8\n",
            "----> model saved to /content/marabou/marabou/train/trained_models/sentiment_analysis_20200712_121734_rnn_model.h5\n",
            "----> class saved to /content/marabou/marabou/train/trained_models/sentiment_analysis_20200712_121734_rnn_class.pkl\n",
            "----> proprocessor object saved to /content/marabou/marabou/train/trained_models/sentiment_analysis_20200712_121734_preprocessor.pkl\n"
          ],
          "name": "stdout"
        }
      ]
    }
  ]
}