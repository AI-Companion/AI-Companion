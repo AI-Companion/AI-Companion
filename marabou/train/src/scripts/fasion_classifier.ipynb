{
  "nbformat": 4,
  "nbformat_minor": 0,
  "metadata": {
    "colab": {
      "name": "fasion_classifier.ipynb",
      "provenance": [],
      "collapsed_sections": []
    },
    "kernelspec": {
      "name": "python3",
      "display_name": "Python 3"
    },
    "accelerator": "GPU"
  },
  "cells": [
    {
      "cell_type": "code",
      "metadata": {
        "id": "NmBOXN1MidbA",
        "colab_type": "code",
        "colab": {
          "base_uri": "https://localhost:8080/",
          "height": 34
        },
        "outputId": "b7001df2-55ff-4d92-c997-b89123861223"
      },
      "source": [
        "% cd ..\n",
        "! rm -rf marabou"
      ],
      "execution_count": 17,
      "outputs": [
        {
          "output_type": "stream",
          "text": [
            "/content\n"
          ],
          "name": "stdout"
        }
      ]
    },
    {
      "cell_type": "code",
      "metadata": {
        "id": "4jeRQpKWoLEx",
        "colab_type": "code",
        "colab": {
          "base_uri": "https://localhost:8080/",
          "height": 191
        },
        "outputId": "a33c3349-cf49-44c4-fc7a-e69163b29fd0"
      },
      "source": [
        "! git clone https://github.com/mmarouen/marabou\n",
        "% cd marabou\n",
        "import os\n",
        "os.environ['PYTHONPATH'] += \":/content/marabou\"\n",
        "! pip install opencv-python"
      ],
      "execution_count": 18,
      "outputs": [
        {
          "output_type": "stream",
          "text": [
            "Cloning into 'marabou'...\n",
            "remote: Enumerating objects: 95, done.\u001b[K\n",
            "remote: Counting objects: 100% (95/95), done.\u001b[K\n",
            "remote: Compressing objects: 100% (64/64), done.\u001b[K\n",
            "remote: Total 1332 (delta 50), reused 69 (delta 31), pack-reused 1237\u001b[K\n",
            "Receiving objects: 100% (1332/1332), 70.07 MiB | 11.55 MiB/s, done.\n",
            "Resolving deltas: 100% (752/752), done.\n",
            "/content/marabou\n",
            "Requirement already satisfied: opencv-python in /usr/local/lib/python3.6/dist-packages (4.1.2.30)\n",
            "Requirement already satisfied: numpy>=1.11.3 in /usr/local/lib/python3.6/dist-packages (from opencv-python) (1.18.5)\n"
          ],
          "name": "stdout"
        }
      ]
    },
    {
      "cell_type": "code",
      "metadata": {
        "id": "A7uLeXlah8jC",
        "colab_type": "code",
        "colab": {
          "base_uri": "https://localhost:8080/",
          "height": 1000
        },
        "outputId": "081e2b03-a1f4-4951-cab6-83bc4d9d0aa4"
      },
      "source": [
        "! python marabou/scripts/train_fashion_classifier.py"
      ],
      "execution_count": 19,
      "outputs": [
        {
          "output_type": "stream",
          "text": [
            "Using TensorFlow backend.\n",
            "2020-06-14 13:07:13.225239: I tensorflow/stream_executor/platform/default/dso_loader.cc:44] Successfully opened dynamic library libcudart.so.10.1\n",
            "===========> extracting fashion imagenet dataset\n",
            "----> downloading dataset\n",
            "data/fashion_imagen     [              <=>   ] 400.75M  88.9MB/s    in 4.5s    \n",
            "----> dataset downloaded, inflating ...\n",
            "===========> data split\n",
            "----> data split finish\n",
            "training features shape  (450, 300, 300, 3)\n",
            "testing features shape  (50, 300, 300, 3)\n",
            "training target shape  (450, 11)\n",
            "testing target shape  (50, 11)\n",
            "===========> build model\n",
            "2020-06-14 13:07:53.093956: I tensorflow/stream_executor/platform/default/dso_loader.cc:44] Successfully opened dynamic library libcuda.so.1\n",
            "2020-06-14 13:07:53.118173: I tensorflow/stream_executor/cuda/cuda_gpu_executor.cc:981] successful NUMA node read from SysFS had negative value (-1), but there must be at least one NUMA node, so returning NUMA node zero\n",
            "2020-06-14 13:07:53.118963: I tensorflow/core/common_runtime/gpu/gpu_device.cc:1561] Found device 0 with properties: \n",
            "pciBusID: 0000:00:04.0 name: Tesla K80 computeCapability: 3.7\n",
            "coreClock: 0.8235GHz coreCount: 13 deviceMemorySize: 11.17GiB deviceMemoryBandwidth: 223.96GiB/s\n",
            "2020-06-14 13:07:53.119022: I tensorflow/stream_executor/platform/default/dso_loader.cc:44] Successfully opened dynamic library libcudart.so.10.1\n",
            "2020-06-14 13:07:53.122103: I tensorflow/stream_executor/platform/default/dso_loader.cc:44] Successfully opened dynamic library libcublas.so.10\n",
            "2020-06-14 13:07:53.124188: I tensorflow/stream_executor/platform/default/dso_loader.cc:44] Successfully opened dynamic library libcufft.so.10\n",
            "2020-06-14 13:07:53.124650: I tensorflow/stream_executor/platform/default/dso_loader.cc:44] Successfully opened dynamic library libcurand.so.10\n",
            "2020-06-14 13:07:53.126948: I tensorflow/stream_executor/platform/default/dso_loader.cc:44] Successfully opened dynamic library libcusolver.so.10\n",
            "2020-06-14 13:07:53.127905: I tensorflow/stream_executor/platform/default/dso_loader.cc:44] Successfully opened dynamic library libcusparse.so.10\n",
            "2020-06-14 13:07:53.131866: I tensorflow/stream_executor/platform/default/dso_loader.cc:44] Successfully opened dynamic library libcudnn.so.7\n",
            "2020-06-14 13:07:53.132027: I tensorflow/stream_executor/cuda/cuda_gpu_executor.cc:981] successful NUMA node read from SysFS had negative value (-1), but there must be at least one NUMA node, so returning NUMA node zero\n",
            "2020-06-14 13:07:53.132778: I tensorflow/stream_executor/cuda/cuda_gpu_executor.cc:981] successful NUMA node read from SysFS had negative value (-1), but there must be at least one NUMA node, so returning NUMA node zero\n",
            "2020-06-14 13:07:53.133461: I tensorflow/core/common_runtime/gpu/gpu_device.cc:1703] Adding visible gpu devices: 0\n",
            "2020-06-14 13:07:53.138772: I tensorflow/core/platform/profile_utils/cpu_utils.cc:102] CPU Frequency: 2300000000 Hz\n",
            "2020-06-14 13:07:53.139070: I tensorflow/compiler/xla/service/service.cc:168] XLA service 0x1c55480 initialized for platform Host (this does not guarantee that XLA will be used). Devices:\n",
            "2020-06-14 13:07:53.139105: I tensorflow/compiler/xla/service/service.cc:176]   StreamExecutor device (0): Host, Default Version\n",
            "2020-06-14 13:07:53.192232: I tensorflow/stream_executor/cuda/cuda_gpu_executor.cc:981] successful NUMA node read from SysFS had negative value (-1), but there must be at least one NUMA node, so returning NUMA node zero\n",
            "2020-06-14 13:07:53.193106: I tensorflow/compiler/xla/service/service.cc:168] XLA service 0x1c55640 initialized for platform CUDA (this does not guarantee that XLA will be used). Devices:\n",
            "2020-06-14 13:07:53.193152: I tensorflow/compiler/xla/service/service.cc:176]   StreamExecutor device (0): Tesla K80, Compute Capability 3.7\n",
            "2020-06-14 13:07:53.193423: I tensorflow/stream_executor/cuda/cuda_gpu_executor.cc:981] successful NUMA node read from SysFS had negative value (-1), but there must be at least one NUMA node, so returning NUMA node zero\n",
            "2020-06-14 13:07:53.194160: I tensorflow/core/common_runtime/gpu/gpu_device.cc:1561] Found device 0 with properties: \n",
            "pciBusID: 0000:00:04.0 name: Tesla K80 computeCapability: 3.7\n",
            "coreClock: 0.8235GHz coreCount: 13 deviceMemorySize: 11.17GiB deviceMemoryBandwidth: 223.96GiB/s\n",
            "2020-06-14 13:07:53.194249: I tensorflow/stream_executor/platform/default/dso_loader.cc:44] Successfully opened dynamic library libcudart.so.10.1\n",
            "2020-06-14 13:07:53.194312: I tensorflow/stream_executor/platform/default/dso_loader.cc:44] Successfully opened dynamic library libcublas.so.10\n",
            "2020-06-14 13:07:53.194354: I tensorflow/stream_executor/platform/default/dso_loader.cc:44] Successfully opened dynamic library libcufft.so.10\n",
            "2020-06-14 13:07:53.194400: I tensorflow/stream_executor/platform/default/dso_loader.cc:44] Successfully opened dynamic library libcurand.so.10\n",
            "2020-06-14 13:07:53.194469: I tensorflow/stream_executor/platform/default/dso_loader.cc:44] Successfully opened dynamic library libcusolver.so.10\n",
            "2020-06-14 13:07:53.194510: I tensorflow/stream_executor/platform/default/dso_loader.cc:44] Successfully opened dynamic library libcusparse.so.10\n",
            "2020-06-14 13:07:53.194551: I tensorflow/stream_executor/platform/default/dso_loader.cc:44] Successfully opened dynamic library libcudnn.so.7\n",
            "2020-06-14 13:07:53.194686: I tensorflow/stream_executor/cuda/cuda_gpu_executor.cc:981] successful NUMA node read from SysFS had negative value (-1), but there must be at least one NUMA node, so returning NUMA node zero\n",
            "2020-06-14 13:07:53.195510: I tensorflow/stream_executor/cuda/cuda_gpu_executor.cc:981] successful NUMA node read from SysFS had negative value (-1), but there must be at least one NUMA node, so returning NUMA node zero\n",
            "2020-06-14 13:07:53.196204: I tensorflow/core/common_runtime/gpu/gpu_device.cc:1703] Adding visible gpu devices: 0\n",
            "2020-06-14 13:07:53.196267: I tensorflow/stream_executor/platform/default/dso_loader.cc:44] Successfully opened dynamic library libcudart.so.10.1\n",
            "2020-06-14 13:07:53.577832: I tensorflow/core/common_runtime/gpu/gpu_device.cc:1102] Device interconnect StreamExecutor with strength 1 edge matrix:\n",
            "2020-06-14 13:07:53.577894: I tensorflow/core/common_runtime/gpu/gpu_device.cc:1108]      0 \n",
            "2020-06-14 13:07:53.577923: I tensorflow/core/common_runtime/gpu/gpu_device.cc:1121] 0:   N \n",
            "2020-06-14 13:07:53.578243: I tensorflow/stream_executor/cuda/cuda_gpu_executor.cc:981] successful NUMA node read from SysFS had negative value (-1), but there must be at least one NUMA node, so returning NUMA node zero\n",
            "2020-06-14 13:07:53.579075: I tensorflow/stream_executor/cuda/cuda_gpu_executor.cc:981] successful NUMA node read from SysFS had negative value (-1), but there must be at least one NUMA node, so returning NUMA node zero\n",
            "2020-06-14 13:07:53.579844: W tensorflow/core/common_runtime/gpu/gpu_bfc_allocator.cc:39] Overriding allow_growth setting because the TF_FORCE_GPU_ALLOW_GROWTH environment variable is set. Original config value was 0.\n",
            "2020-06-14 13:07:53.579910: I tensorflow/core/common_runtime/gpu/gpu_device.cc:1247] Created TensorFlow device (/job:localhost/replica:0/task:0/device:GPU:0 with 10634 MB memory) -> physical GPU (device: 0, name: Tesla K80, pci bus id: 0000:00:04.0, compute capability: 3.7)\n",
            "Model: \"model_1\"\n",
            "_________________________________________________________________\n",
            "Layer (type)                 Output Shape              Param #   \n",
            "=================================================================\n",
            "input_1 (InputLayer)         (None, 300, 300, 3)       0         \n",
            "_________________________________________________________________\n",
            "block1_conv1 (Conv2D)        (None, 300, 300, 64)      1792      \n",
            "_________________________________________________________________\n",
            "block1_conv2 (Conv2D)        (None, 300, 300, 64)      36928     \n",
            "_________________________________________________________________\n",
            "block1_pool (MaxPooling2D)   (None, 150, 150, 64)      0         \n",
            "_________________________________________________________________\n",
            "block2_conv1 (Conv2D)        (None, 150, 150, 128)     73856     \n",
            "_________________________________________________________________\n",
            "block2_conv2 (Conv2D)        (None, 150, 150, 128)     147584    \n",
            "_________________________________________________________________\n",
            "block2_pool (MaxPooling2D)   (None, 75, 75, 128)       0         \n",
            "_________________________________________________________________\n",
            "block3_conv1 (Conv2D)        (None, 75, 75, 256)       295168    \n",
            "_________________________________________________________________\n",
            "block3_conv2 (Conv2D)        (None, 75, 75, 256)       590080    \n",
            "_________________________________________________________________\n",
            "block3_conv3 (Conv2D)        (None, 75, 75, 256)       590080    \n",
            "_________________________________________________________________\n",
            "block3_pool (MaxPooling2D)   (None, 37, 37, 256)       0         \n",
            "_________________________________________________________________\n",
            "block4_conv1 (Conv2D)        (None, 37, 37, 512)       1180160   \n",
            "_________________________________________________________________\n",
            "block4_conv2 (Conv2D)        (None, 37, 37, 512)       2359808   \n",
            "_________________________________________________________________\n",
            "block4_conv3 (Conv2D)        (None, 37, 37, 512)       2359808   \n",
            "_________________________________________________________________\n",
            "block4_pool (MaxPooling2D)   (None, 18, 18, 512)       0         \n",
            "_________________________________________________________________\n",
            "block5_conv1 (Conv2D)        (None, 18, 18, 512)       2359808   \n",
            "_________________________________________________________________\n",
            "block5_conv2 (Conv2D)        (None, 18, 18, 512)       2359808   \n",
            "_________________________________________________________________\n",
            "block5_conv3 (Conv2D)        (None, 18, 18, 512)       2359808   \n",
            "_________________________________________________________________\n",
            "block5_pool (MaxPooling2D)   (None, 9, 9, 512)         0         \n",
            "_________________________________________________________________\n",
            "flatten_1 (Flatten)          (None, 41472)             0         \n",
            "_________________________________________________________________\n",
            "dense_1 (Dense)              (None, 512)               21234176  \n",
            "_________________________________________________________________\n",
            "dropout_1 (Dropout)          (None, 512)               0         \n",
            "_________________________________________________________________\n",
            "dense_2 (Dense)              (None, 11)                5643      \n",
            "=================================================================\n",
            "Total params: 35,954,507\n",
            "Trainable params: 21,239,819\n",
            "Non-trainable params: 14,714,688\n",
            "_________________________________________________________________\n",
            "None\n",
            "Train on 450 samples, validate on 50 samples\n",
            "Epoch 1/10\n",
            "2020-06-14 13:07:54.716046: I tensorflow/stream_executor/platform/default/dso_loader.cc:44] Successfully opened dynamic library libcublas.so.10\n",
            "2020-06-14 13:07:54.993652: I tensorflow/stream_executor/platform/default/dso_loader.cc:44] Successfully opened dynamic library libcudnn.so.7\n",
            "2020-06-14 13:07:56.435386: W tensorflow/core/common_runtime/bfc_allocator.cc:245] Allocator (GPU_0_bfc) ran out of memory trying to allocate 2.76GiB with freed_by_count=0. The caller indicates that this is not a failure, but may mean that there could be performance gains if more memory were available.\n",
            "2020-06-14 13:07:56.435455: W tensorflow/core/kernels/gpu_utils.cc:49] Failed to allocate memory for convolution redzone checking; skipping this check. This is benign and only means that we won't check cudnn for out-of-bounds reads and writes. This message will only be printed once.\n",
            " - 39s - loss: 63.1787 - acc: 0.2667 - val_loss: 41.4014 - val_acc: 0.5400\n",
            "Epoch 2/10\n",
            " - 9s - loss: 17.7340 - acc: 0.7311 - val_loss: 15.4664 - val_acc: 0.6400\n",
            "Epoch 3/10\n",
            " - 8s - loss: 2.7760 - acc: 0.9067 - val_loss: 12.6535 - val_acc: 0.7200\n",
            "Epoch 4/10\n",
            " - 9s - loss: 2.3340 - acc: 0.9200 - val_loss: 9.8501 - val_acc: 0.7800\n",
            "Epoch 5/10\n",
            " - 9s - loss: 1.0725 - acc: 0.9556 - val_loss: 5.5970 - val_acc: 0.8400\n",
            "Epoch 6/10\n",
            " - 8s - loss: 0.7310 - acc: 0.9600 - val_loss: 6.0198 - val_acc: 0.8400\n",
            "Epoch 7/10\n",
            " - 8s - loss: 1.1384 - acc: 0.9600 - val_loss: 6.3852 - val_acc: 0.8400\n",
            "Epoch 8/10\n",
            " - 9s - loss: 0.3266 - acc: 0.9867 - val_loss: 6.6386 - val_acc: 0.8400\n",
            "Epoch 9/10\n",
            " - 9s - loss: 0.1854 - acc: 0.9844 - val_loss: 6.8956 - val_acc: 0.8400\n",
            "Epoch 10/10\n",
            " - 8s - loss: 0.6257 - acc: 0.9800 - val_loss: 7.1270 - val_acc: 0.8200\n",
            "               precision  ...  support\n",
            "fur_coat            0.67  ...     4.00\n",
            "maillot             1.00  ...     2.00\n",
            "mini_skirt          0.40  ...     3.00\n",
            "necklace            1.00  ...     6.00\n",
            "pajamas             0.67  ...    11.00\n",
            "pants               0.67  ...     2.00\n",
            "running_shoes       1.00  ...     5.00\n",
            "suit                1.00  ...     4.00\n",
            "sun_hat             1.00  ...     8.00\n",
            "sunglass            1.00  ...     5.00\n",
            "accuracy            0.82  ...     0.82\n",
            "macro avg           0.84  ...    50.00\n",
            "weighted avg        0.85  ...    50.00\n",
            "\n",
            "[13 rows x 4 columns]\n",
            "===========> saving learning curve and classification report under perf/\n",
            "----> learning curve saved to /content/marabou/perf/fashion_imagenet_20200614_130753_learning_curve.png\n",
            "----> classification report saved to /content/marabou/perf/fashion_imagenet_20200614_130753_report.txt\n",
            "===========> saving trained model and preprocessor under models/\n",
            "----> model saved to /content/marabou/models/fashion_imagenet_20200614_130753_rnn_model.h5\n",
            "----> class saved to /content/marabou/models/fashion_imagenet_20200614_130753_rnn_class.pkl\n"
          ],
          "name": "stdout"
        }
      ]
    }
  ]
}