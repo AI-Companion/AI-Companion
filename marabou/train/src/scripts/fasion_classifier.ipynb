{
  "nbformat": 4,
  "nbformat_minor": 0,
  "metadata": {
    "colab": {
      "name": "fasion_classifier.ipynb",
      "provenance": [],
      "collapsed_sections": []
    },
    "kernelspec": {
      "name": "python3",
      "display_name": "Python 3"
    },
    "accelerator": "GPU"
  },
  "cells": [
    {
      "cell_type": "code",
      "metadata": {
        "id": "4jeRQpKWoLEx",
        "colab_type": "code",
        "colab": {}
      },
      "source": [
        "! git clone https://github.com/mmarouen/marabou\n",
        "% cd marabou\n",
        "import os\n",
        "os.environ['PYTHONPATH'] += \":/content/marabou/marabou/train/\"\n",
        "os.environ['MARABOU_HOME'] = \"/content/marabou\"\n",
        "! pip install opencv-python"
      ],
      "execution_count": null,
      "outputs": []
    },
    {
      "cell_type": "code",
      "metadata": {
        "id": "A7uLeXlah8jC",
        "colab_type": "code",
        "colab": {}
      },
      "source": [
        "! python marabou/train/src/scripts/train_fashion_classifier.py"
      ],
      "execution_count": null,
      "outputs": []
    }
  ]
}