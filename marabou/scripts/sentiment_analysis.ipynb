{
  "nbformat": 4,
  "nbformat_minor": 0,
  "metadata": {
    "colab": {
      "name": "sentiment_analysis.ipynb",
      "provenance": [],
      "collapsed_sections": [],
      "toc_visible": true
    },
    "kernelspec": {
      "name": "python3",
      "display_name": "Python 3"
    }
  },
  "cells": [
    {
      "cell_type": "markdown",
      "metadata": {
        "id": "5dlZY8ZFcSC4",
        "colab_type": "text"
      },
      "source": [
        "## Clone repo and run training script"
      ]
    },
    {
      "cell_type": "code",
      "metadata": {
        "id": "0UyLx9jxHy21",
        "colab_type": "code",
        "colab": {}
      },
      "source": [
        "! git clone https://github.com/mmarouen/marabou\n",
        "% cd marabou\n",
        "import os\n",
        "os.environ['PYTHONPATH'] += \":/content/marabou\"\n",
        "!python marabou/scripts/train_sentiment_analysis.py"
      ],
      "execution_count": 0,
      "outputs": []
    }
  ]
}