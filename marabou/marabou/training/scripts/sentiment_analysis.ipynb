{
 "cells": [
  {
   "cell_type": "markdown",
   "metadata": {
    "id": "5dlZY8ZFcSC4"
   },
   "source": [
    "## Clone repo and run training script"
   ]
  },
  {
   "cell_type": "code",
   "execution_count": 3,
   "metadata": {
    "colab": {
     "base_uri": "https://localhost:8080/"
    },
    "executionInfo": {
     "elapsed": 8590,
     "status": "ok",
     "timestamp": 1604501995856,
     "user": {
      "displayName": "Azzouz Marouen",
      "photoUrl": "",
      "userId": "18438028182924348377"
     },
     "user_tz": -60
    },
    "id": "0UyLx9jxHy21",
    "outputId": "e82e8fd4-999e-4942-8269-2ffec8c2d78c"
   },
   "outputs": [
    {
     "name": "stdout",
     "output_type": "stream",
     "text": [
      "Cloning into 'marabou'...\n",
      "remote: Enumerating objects: 250, done.\u001b[K\n",
      "remote: Counting objects: 100% (250/250), done.\u001b[K\n",
      "remote: Compressing objects: 100% (174/174), done.\u001b[K\n",
      "^Cceiving objects:   4% (453/11023), 7.55 MiB | 1.50 MiB/s\n",
      "fatal: the remote end hung up unexpectedly\n"
     ]
    },
    {
     "name": "stderr",
     "output_type": "stream",
     "text": [
      "UsageError: Line magic function `%` not found.\n"
     ]
    }
   ],
   "source": [
    "! git clone https://github.com/AI-Companion/marabou.git\n",
    "import os\n",
    "os.environ['MARABOU_HOME'] = \"/content/marabou\"\n",
    "% cd marabou/marabou\n",
    "#! pip install .[train]"
   ]
  },
  {
   "cell_type": "code",
   "execution_count": 6,
   "metadata": {
    "colab": {
     "base_uri": "https://localhost:8080/"
    },
    "executionInfo": {
     "elapsed": 1707066,
     "status": "ok",
     "timestamp": 1604503704876,
     "user": {
      "displayName": "Azzouz Marouen",
      "photoUrl": "",
      "userId": "18438028182924348377"
     },
     "user_tz": -60
    },
    "id": "ZgV2idwCqh0k",
    "outputId": "6796f16e-3300-4ec9-8e1d-a5c26a36e670"
   },
   "outputs": [
    {
     "name": "stdout",
     "output_type": "stream",
     "text": [
      "/bin/bash: marabou_train_topic_detection: command not found\r\n"
     ]
    }
   ],
   "source": [
    "! marabou-train-topic-detect"
   ]
  },
  {
   "cell_type": "code",
   "execution_count": null,
   "metadata": {},
   "outputs": [],
   "source": []
  }
 ],
 "metadata": {
  "accelerator": "GPU",
  "colab": {
   "collapsed_sections": [],
   "name": "sentiment_analysis.ipynb",
   "provenance": [],
   "toc_visible": true
  },
  "kernelspec": {
   "display_name": "Python 3",
   "language": "python",
   "name": "python3"
  },
  "language_info": {
   "codemirror_mode": {
    "name": "ipython",
    "version": 3
   },
   "file_extension": ".py",
   "mimetype": "text/x-python",
   "name": "python",
   "nbconvert_exporter": "python",
   "pygments_lexer": "ipython3",
   "version": "3.8.3"
  }
 },
 "nbformat": 4,
 "nbformat_minor": 1
}
