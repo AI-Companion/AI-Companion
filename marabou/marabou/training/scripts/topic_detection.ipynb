{
 "cells": [
  {
   "cell_type": "markdown",
   "metadata": {
    "id": "5dlZY8ZFcSC4"
   },
   "source": [
    "## Clone repo and run training script"
   ]
  },
  {
   "cell_type": "code",
   "execution_count": 4,
   "metadata": {
    "colab": {
     "base_uri": "https://localhost:8080/"
    },
    "executionInfo": {
     "elapsed": 8590,
     "status": "ok",
     "timestamp": 1604501995856,
     "user": {
      "displayName": "Azzouz Marouen",
      "photoUrl": "",
      "userId": "18438028182924348377"
     },
     "user_tz": -60
    },
    "id": "0UyLx9jxHy21",
    "outputId": "e82e8fd4-999e-4942-8269-2ffec8c2d78c"
   },
   "outputs": [
    {
     "name": "stdout",
     "output_type": "stream",
     "text": [
      "Cloning into 'marabou'...\n",
      "warning: Could not find remote branch topic_detection to clone.\n",
      "fatal: Remote branch topic_detection not found in upstream origin\n",
      "[Errno 2] No such file or directory: 'marabou/marabou'\n",
      "/Users/balakrishnasg/AI/marabou/marabou/marabou/training/scripts\n",
      "\u001b[31mERROR: Directory '.[train]' is not installable. Neither 'setup.py' nor 'pyproject.toml' found.\u001b[0m\n"
     ]
    }
   ],
   "source": [
    "! git clone --single-branch --branch topic_detection https://github.com/AI-Companion/marabou.git\n",
    "import os\n",
    "os.environ['MARABOU_HOME'] = \"/content/marabou\"\n",
    "%cd marabou/marabou\n",
    "! pip install .[train]"
   ]
  },
  {
   "cell_type": "code",
   "execution_count": 9,
   "metadata": {},
   "outputs": [
    {
     "name": "stdout",
     "output_type": "stream",
     "text": [
      "Processing /Users/balakrishnasg/AI/marabou/marabou/marabou/training/scripts/marabou/marabou\n",
      "Requirement already satisfied: ds-gear in /Users/balakrishnasg/opt/anaconda3/lib/python3.8/site-packages (from marabou==0.1.0) (0.1.8)\n",
      "Requirement already satisfied: flask==1.1.2 in /Users/balakrishnasg/opt/anaconda3/lib/python3.8/site-packages (from marabou==0.1.0) (1.1.2)\n",
      "Requirement already satisfied: flask_restful in /Users/balakrishnasg/opt/anaconda3/lib/python3.8/site-packages (from marabou==0.1.0) (0.3.8)\n",
      "Requirement already satisfied: pillow in /Users/balakrishnasg/opt/anaconda3/lib/python3.8/site-packages (from marabou==0.1.0) (7.2.0)\n",
      "Requirement already satisfied: numpy==1.19.0rc2 in /Users/balakrishnasg/opt/anaconda3/lib/python3.8/site-packages (from marabou==0.1.0) (1.19.0rc2)\n",
      "Requirement already satisfied: pandas==1.0.4 in /Users/balakrishnasg/opt/anaconda3/lib/python3.8/site-packages (from marabou==0.1.0) (1.0.4)\n",
      "Requirement already satisfied: scikit-learn==0.23.1 in /Users/balakrishnasg/opt/anaconda3/lib/python3.8/site-packages (from marabou==0.1.0) (0.23.1)\n",
      "Requirement already satisfied: matplotlib in /Users/balakrishnasg/opt/anaconda3/lib/python3.8/site-packages (from marabou==0.1.0) (3.2.2)\n",
      "Requirement already satisfied: jupyter in /Users/balakrishnasg/opt/anaconda3/lib/python3.8/site-packages (from marabou==0.1.0) (1.0.0)\n",
      "Requirement already satisfied: nltk==3.5 in /Users/balakrishnasg/opt/anaconda3/lib/python3.8/site-packages (from marabou==0.1.0) (3.5)\n",
      "Requirement already satisfied: keras==2.3.1 in /Users/balakrishnasg/opt/anaconda3/lib/python3.8/site-packages (from marabou==0.1.0) (2.3.1)\n",
      "Requirement already satisfied: tensorflow==2.2.0 in /Users/balakrishnasg/opt/anaconda3/lib/python3.8/site-packages (from marabou==0.1.0) (2.2.0)\n",
      "Requirement already satisfied: opencv-python in /Users/balakrishnasg/opt/anaconda3/lib/python3.8/site-packages (from marabou==0.1.0) (4.4.0.46)\n",
      "Requirement already satisfied: wget in /Users/balakrishnasg/opt/anaconda3/lib/python3.8/site-packages (from marabou==0.1.0) (3.2)\n",
      "Requirement already satisfied: pycodestyle in /Users/balakrishnasg/opt/anaconda3/lib/python3.8/site-packages (from ds-gear->marabou==0.1.0) (2.6.0)\n",
      "Requirement already satisfied: doxypypy in /Users/balakrishnasg/opt/anaconda3/lib/python3.8/site-packages (from ds-gear->marabou==0.1.0) (0.8.8.6)\n",
      "Requirement already satisfied: pylint in /Users/balakrishnasg/opt/anaconda3/lib/python3.8/site-packages (from ds-gear->marabou==0.1.0) (2.5.3)\n",
      "Requirement already satisfied: click>=5.1 in /Users/balakrishnasg/opt/anaconda3/lib/python3.8/site-packages (from flask==1.1.2->marabou==0.1.0) (7.1.2)\n",
      "Requirement already satisfied: Werkzeug>=0.15 in /Users/balakrishnasg/opt/anaconda3/lib/python3.8/site-packages (from flask==1.1.2->marabou==0.1.0) (1.0.1)\n",
      "Requirement already satisfied: itsdangerous>=0.24 in /Users/balakrishnasg/opt/anaconda3/lib/python3.8/site-packages (from flask==1.1.2->marabou==0.1.0) (1.1.0)\n",
      "Requirement already satisfied: Jinja2>=2.10.1 in /Users/balakrishnasg/opt/anaconda3/lib/python3.8/site-packages (from flask==1.1.2->marabou==0.1.0) (2.11.2)\n",
      "Requirement already satisfied: aniso8601>=0.82 in /Users/balakrishnasg/opt/anaconda3/lib/python3.8/site-packages (from flask_restful->marabou==0.1.0) (8.0.0)\n",
      "Requirement already satisfied: six>=1.3.0 in /Users/balakrishnasg/opt/anaconda3/lib/python3.8/site-packages (from flask_restful->marabou==0.1.0) (1.15.0)\n",
      "Requirement already satisfied: pytz in /Users/balakrishnasg/opt/anaconda3/lib/python3.8/site-packages (from flask_restful->marabou==0.1.0) (2020.1)\n",
      "Requirement already satisfied: python-dateutil>=2.6.1 in /Users/balakrishnasg/opt/anaconda3/lib/python3.8/site-packages (from pandas==1.0.4->marabou==0.1.0) (2.8.1)\n",
      "Requirement already satisfied: joblib>=0.11 in /Users/balakrishnasg/opt/anaconda3/lib/python3.8/site-packages (from scikit-learn==0.23.1->marabou==0.1.0) (0.16.0)\n",
      "Requirement already satisfied: threadpoolctl>=2.0.0 in /Users/balakrishnasg/opt/anaconda3/lib/python3.8/site-packages (from scikit-learn==0.23.1->marabou==0.1.0) (2.1.0)\n",
      "Requirement already satisfied: scipy>=0.19.1 in /Users/balakrishnasg/opt/anaconda3/lib/python3.8/site-packages (from scikit-learn==0.23.1->marabou==0.1.0) (1.4.1)\n",
      "Requirement already satisfied: kiwisolver>=1.0.1 in /Users/balakrishnasg/opt/anaconda3/lib/python3.8/site-packages (from matplotlib->marabou==0.1.0) (1.2.0)\n",
      "Requirement already satisfied: cycler>=0.10 in /Users/balakrishnasg/opt/anaconda3/lib/python3.8/site-packages (from matplotlib->marabou==0.1.0) (0.10.0)\n",
      "Requirement already satisfied: pyparsing!=2.0.4,!=2.1.2,!=2.1.6,>=2.0.1 in /Users/balakrishnasg/opt/anaconda3/lib/python3.8/site-packages (from matplotlib->marabou==0.1.0) (2.4.7)\n",
      "Requirement already satisfied: ipykernel in /Users/balakrishnasg/opt/anaconda3/lib/python3.8/site-packages (from jupyter->marabou==0.1.0) (5.3.2)\n",
      "Requirement already satisfied: ipywidgets in /Users/balakrishnasg/opt/anaconda3/lib/python3.8/site-packages (from jupyter->marabou==0.1.0) (7.5.1)\n",
      "Requirement already satisfied: notebook in /Users/balakrishnasg/opt/anaconda3/lib/python3.8/site-packages (from jupyter->marabou==0.1.0) (6.0.3)\n",
      "Requirement already satisfied: jupyter-console in /Users/balakrishnasg/opt/anaconda3/lib/python3.8/site-packages (from jupyter->marabou==0.1.0) (6.1.0)\n",
      "Requirement already satisfied: nbconvert in /Users/balakrishnasg/opt/anaconda3/lib/python3.8/site-packages (from jupyter->marabou==0.1.0) (5.6.1)\n",
      "Requirement already satisfied: qtconsole in /Users/balakrishnasg/opt/anaconda3/lib/python3.8/site-packages (from jupyter->marabou==0.1.0) (4.7.5)\n",
      "Requirement already satisfied: tqdm in /Users/balakrishnasg/opt/anaconda3/lib/python3.8/site-packages (from nltk==3.5->marabou==0.1.0) (4.47.0)\n",
      "Requirement already satisfied: regex in /Users/balakrishnasg/opt/anaconda3/lib/python3.8/site-packages (from nltk==3.5->marabou==0.1.0) (2020.6.8)\n",
      "Requirement already satisfied: keras-preprocessing>=1.0.5 in /Users/balakrishnasg/opt/anaconda3/lib/python3.8/site-packages (from keras==2.3.1->marabou==0.1.0) (1.1.2)\n",
      "Requirement already satisfied: h5py in /Users/balakrishnasg/opt/anaconda3/lib/python3.8/site-packages (from keras==2.3.1->marabou==0.1.0) (2.10.0)\n",
      "Requirement already satisfied: pyyaml in /Users/balakrishnasg/opt/anaconda3/lib/python3.8/site-packages (from keras==2.3.1->marabou==0.1.0) (5.3.1)\n",
      "Requirement already satisfied: keras-applications>=1.0.6 in /Users/balakrishnasg/opt/anaconda3/lib/python3.8/site-packages (from keras==2.3.1->marabou==0.1.0) (1.0.8)\n",
      "Requirement already satisfied: protobuf>=3.8.0 in /Users/balakrishnasg/opt/anaconda3/lib/python3.8/site-packages (from tensorflow==2.2.0->marabou==0.1.0) (3.13.0)\n",
      "Requirement already satisfied: google-pasta>=0.1.8 in /Users/balakrishnasg/opt/anaconda3/lib/python3.8/site-packages (from tensorflow==2.2.0->marabou==0.1.0) (0.2.0)\n",
      "Requirement already satisfied: opt-einsum>=2.3.2 in /Users/balakrishnasg/opt/anaconda3/lib/python3.8/site-packages (from tensorflow==2.2.0->marabou==0.1.0) (3.3.0)\n",
      "Requirement already satisfied: wrapt>=1.11.1 in /Users/balakrishnasg/opt/anaconda3/lib/python3.8/site-packages (from tensorflow==2.2.0->marabou==0.1.0) (1.11.2)\n",
      "Requirement already satisfied: absl-py>=0.7.0 in /Users/balakrishnasg/opt/anaconda3/lib/python3.8/site-packages (from tensorflow==2.2.0->marabou==0.1.0) (0.10.0)\n",
      "Requirement already satisfied: grpcio>=1.8.6 in /Users/balakrishnasg/opt/anaconda3/lib/python3.8/site-packages (from tensorflow==2.2.0->marabou==0.1.0) (1.33.1)\n",
      "Requirement already satisfied: gast==0.3.3 in /Users/balakrishnasg/opt/anaconda3/lib/python3.8/site-packages (from tensorflow==2.2.0->marabou==0.1.0) (0.3.3)\n",
      "Requirement already satisfied: wheel>=0.26; python_version >= \"3\" in /Users/balakrishnasg/opt/anaconda3/lib/python3.8/site-packages (from tensorflow==2.2.0->marabou==0.1.0) (0.34.2)\n",
      "Requirement already satisfied: tensorboard<2.3.0,>=2.2.0 in /Users/balakrishnasg/opt/anaconda3/lib/python3.8/site-packages (from tensorflow==2.2.0->marabou==0.1.0) (2.2.2)\n",
      "Requirement already satisfied: termcolor>=1.1.0 in /Users/balakrishnasg/opt/anaconda3/lib/python3.8/site-packages (from tensorflow==2.2.0->marabou==0.1.0) (1.1.0)\n",
      "Requirement already satisfied: astunparse==1.6.3 in /Users/balakrishnasg/opt/anaconda3/lib/python3.8/site-packages (from tensorflow==2.2.0->marabou==0.1.0) (1.6.3)\n",
      "Requirement already satisfied: tensorflow-estimator<2.3.0,>=2.2.0 in /Users/balakrishnasg/opt/anaconda3/lib/python3.8/site-packages (from tensorflow==2.2.0->marabou==0.1.0) (2.2.0)\n",
      "Requirement already satisfied: mccabe<0.7,>=0.6 in /Users/balakrishnasg/opt/anaconda3/lib/python3.8/site-packages (from pylint->ds-gear->marabou==0.1.0) (0.6.1)\n",
      "Requirement already satisfied: astroid<=2.5,>=2.4.0 in /Users/balakrishnasg/opt/anaconda3/lib/python3.8/site-packages (from pylint->ds-gear->marabou==0.1.0) (2.4.2)\n",
      "Requirement already satisfied: toml>=0.7.1 in /Users/balakrishnasg/opt/anaconda3/lib/python3.8/site-packages (from pylint->ds-gear->marabou==0.1.0) (0.10.1)\n",
      "Requirement already satisfied: isort<5,>=4.2.5 in /Users/balakrishnasg/opt/anaconda3/lib/python3.8/site-packages (from pylint->ds-gear->marabou==0.1.0) (4.3.21)\n"
     ]
    },
    {
     "name": "stdout",
     "output_type": "stream",
     "text": [
      "Requirement already satisfied: MarkupSafe>=0.23 in /Users/balakrishnasg/opt/anaconda3/lib/python3.8/site-packages (from Jinja2>=2.10.1->flask==1.1.2->marabou==0.1.0) (1.1.1)\n",
      "Requirement already satisfied: tornado>=4.2 in /Users/balakrishnasg/opt/anaconda3/lib/python3.8/site-packages (from ipykernel->jupyter->marabou==0.1.0) (6.0.4)\n",
      "Requirement already satisfied: jupyter-client in /Users/balakrishnasg/opt/anaconda3/lib/python3.8/site-packages (from ipykernel->jupyter->marabou==0.1.0) (6.1.6)\n",
      "Requirement already satisfied: appnope; platform_system == \"Darwin\" in /Users/balakrishnasg/opt/anaconda3/lib/python3.8/site-packages (from ipykernel->jupyter->marabou==0.1.0) (0.1.0)\n",
      "Requirement already satisfied: ipython>=5.0.0 in /Users/balakrishnasg/opt/anaconda3/lib/python3.8/site-packages (from ipykernel->jupyter->marabou==0.1.0) (7.16.1)\n",
      "Requirement already satisfied: traitlets>=4.1.0 in /Users/balakrishnasg/opt/anaconda3/lib/python3.8/site-packages (from ipykernel->jupyter->marabou==0.1.0) (4.3.3)\n",
      "Requirement already satisfied: nbformat>=4.2.0 in /Users/balakrishnasg/opt/anaconda3/lib/python3.8/site-packages (from ipywidgets->jupyter->marabou==0.1.0) (5.0.7)\n",
      "Requirement already satisfied: widgetsnbextension~=3.5.0 in /Users/balakrishnasg/opt/anaconda3/lib/python3.8/site-packages (from ipywidgets->jupyter->marabou==0.1.0) (3.5.1)\n",
      "Requirement already satisfied: pyzmq>=17 in /Users/balakrishnasg/opt/anaconda3/lib/python3.8/site-packages (from notebook->jupyter->marabou==0.1.0) (19.0.1)\n",
      "Requirement already satisfied: prometheus-client in /Users/balakrishnasg/opt/anaconda3/lib/python3.8/site-packages (from notebook->jupyter->marabou==0.1.0) (0.8.0)\n",
      "Requirement already satisfied: terminado>=0.8.1 in /Users/balakrishnasg/opt/anaconda3/lib/python3.8/site-packages (from notebook->jupyter->marabou==0.1.0) (0.8.3)\n",
      "Requirement already satisfied: jupyter-core>=4.6.1 in /Users/balakrishnasg/opt/anaconda3/lib/python3.8/site-packages (from notebook->jupyter->marabou==0.1.0) (4.6.3)\n",
      "Requirement already satisfied: ipython-genutils in /Users/balakrishnasg/opt/anaconda3/lib/python3.8/site-packages (from notebook->jupyter->marabou==0.1.0) (0.2.0)\n",
      "Requirement already satisfied: Send2Trash in /Users/balakrishnasg/opt/anaconda3/lib/python3.8/site-packages (from notebook->jupyter->marabou==0.1.0) (1.5.0)\n",
      "Requirement already satisfied: prompt-toolkit!=3.0.0,!=3.0.1,<3.1.0,>=2.0.0 in /Users/balakrishnasg/opt/anaconda3/lib/python3.8/site-packages (from jupyter-console->jupyter->marabou==0.1.0) (3.0.5)\n",
      "Requirement already satisfied: pygments in /Users/balakrishnasg/opt/anaconda3/lib/python3.8/site-packages (from jupyter-console->jupyter->marabou==0.1.0) (2.6.1)\n",
      "Requirement already satisfied: pandocfilters>=1.4.1 in /Users/balakrishnasg/opt/anaconda3/lib/python3.8/site-packages (from nbconvert->jupyter->marabou==0.1.0) (1.4.2)\n",
      "Requirement already satisfied: entrypoints>=0.2.2 in /Users/balakrishnasg/opt/anaconda3/lib/python3.8/site-packages (from nbconvert->jupyter->marabou==0.1.0) (0.3)\n",
      "Requirement already satisfied: mistune<2,>=0.8.1 in /Users/balakrishnasg/opt/anaconda3/lib/python3.8/site-packages (from nbconvert->jupyter->marabou==0.1.0) (0.8.4)\n",
      "Requirement already satisfied: bleach in /Users/balakrishnasg/opt/anaconda3/lib/python3.8/site-packages (from nbconvert->jupyter->marabou==0.1.0) (3.1.5)\n",
      "Requirement already satisfied: defusedxml in /Users/balakrishnasg/opt/anaconda3/lib/python3.8/site-packages (from nbconvert->jupyter->marabou==0.1.0) (0.6.0)\n",
      "Requirement already satisfied: testpath in /Users/balakrishnasg/opt/anaconda3/lib/python3.8/site-packages (from nbconvert->jupyter->marabou==0.1.0) (0.4.4)\n",
      "Requirement already satisfied: qtpy in /Users/balakrishnasg/opt/anaconda3/lib/python3.8/site-packages (from qtconsole->jupyter->marabou==0.1.0) (1.9.0)\n",
      "Requirement already satisfied: setuptools in /Users/balakrishnasg/opt/anaconda3/lib/python3.8/site-packages (from protobuf>=3.8.0->tensorflow==2.2.0->marabou==0.1.0) (49.2.0.post20200714)\n",
      "Requirement already satisfied: requests<3,>=2.21.0 in /Users/balakrishnasg/opt/anaconda3/lib/python3.8/site-packages (from tensorboard<2.3.0,>=2.2.0->tensorflow==2.2.0->marabou==0.1.0) (2.24.0)\n",
      "Requirement already satisfied: markdown>=2.6.8 in /Users/balakrishnasg/opt/anaconda3/lib/python3.8/site-packages (from tensorboard<2.3.0,>=2.2.0->tensorflow==2.2.0->marabou==0.1.0) (3.3.3)\n",
      "Requirement already satisfied: tensorboard-plugin-wit>=1.6.0 in /Users/balakrishnasg/opt/anaconda3/lib/python3.8/site-packages (from tensorboard<2.3.0,>=2.2.0->tensorflow==2.2.0->marabou==0.1.0) (1.7.0)\n",
      "Requirement already satisfied: google-auth<2,>=1.6.3 in /Users/balakrishnasg/opt/anaconda3/lib/python3.8/site-packages (from tensorboard<2.3.0,>=2.2.0->tensorflow==2.2.0->marabou==0.1.0) (1.22.1)\n",
      "Requirement already satisfied: google-auth-oauthlib<0.5,>=0.4.1 in /Users/balakrishnasg/opt/anaconda3/lib/python3.8/site-packages (from tensorboard<2.3.0,>=2.2.0->tensorflow==2.2.0->marabou==0.1.0) (0.4.1)\n",
      "Requirement already satisfied: lazy-object-proxy==1.4.* in /Users/balakrishnasg/opt/anaconda3/lib/python3.8/site-packages (from astroid<=2.5,>=2.4.0->pylint->ds-gear->marabou==0.1.0) (1.4.3)\n",
      "Requirement already satisfied: backcall in /Users/balakrishnasg/opt/anaconda3/lib/python3.8/site-packages (from ipython>=5.0.0->ipykernel->jupyter->marabou==0.1.0) (0.2.0)\n",
      "Requirement already satisfied: jedi>=0.10 in /Users/balakrishnasg/opt/anaconda3/lib/python3.8/site-packages (from ipython>=5.0.0->ipykernel->jupyter->marabou==0.1.0) (0.17.1)\n",
      "Requirement already satisfied: pexpect; sys_platform != \"win32\" in /Users/balakrishnasg/opt/anaconda3/lib/python3.8/site-packages (from ipython>=5.0.0->ipykernel->jupyter->marabou==0.1.0) (4.8.0)\n",
      "Requirement already satisfied: pickleshare in /Users/balakrishnasg/opt/anaconda3/lib/python3.8/site-packages (from ipython>=5.0.0->ipykernel->jupyter->marabou==0.1.0) (0.7.5)\n",
      "Requirement already satisfied: decorator in /Users/balakrishnasg/opt/anaconda3/lib/python3.8/site-packages (from ipython>=5.0.0->ipykernel->jupyter->marabou==0.1.0) (4.4.2)\n",
      "Requirement already satisfied: jsonschema!=2.5.0,>=2.4 in /Users/balakrishnasg/opt/anaconda3/lib/python3.8/site-packages (from nbformat>=4.2.0->ipywidgets->jupyter->marabou==0.1.0) (3.2.0)\n",
      "Requirement already satisfied: wcwidth in /Users/balakrishnasg/opt/anaconda3/lib/python3.8/site-packages (from prompt-toolkit!=3.0.0,!=3.0.1,<3.1.0,>=2.0.0->jupyter-console->jupyter->marabou==0.1.0) (0.2.5)\n",
      "Requirement already satisfied: packaging in /Users/balakrishnasg/opt/anaconda3/lib/python3.8/site-packages (from bleach->nbconvert->jupyter->marabou==0.1.0) (20.4)\n",
      "Requirement already satisfied: webencodings in /Users/balakrishnasg/opt/anaconda3/lib/python3.8/site-packages (from bleach->nbconvert->jupyter->marabou==0.1.0) (0.5.1)\n",
      "Requirement already satisfied: chardet<4,>=3.0.2 in /Users/balakrishnasg/opt/anaconda3/lib/python3.8/site-packages (from requests<3,>=2.21.0->tensorboard<2.3.0,>=2.2.0->tensorflow==2.2.0->marabou==0.1.0) (3.0.4)\n",
      "Requirement already satisfied: urllib3!=1.25.0,!=1.25.1,<1.26,>=1.21.1 in /Users/balakrishnasg/opt/anaconda3/lib/python3.8/site-packages (from requests<3,>=2.21.0->tensorboard<2.3.0,>=2.2.0->tensorflow==2.2.0->marabou==0.1.0) (1.25.9)\n",
      "Requirement already satisfied: idna<3,>=2.5 in /Users/balakrishnasg/opt/anaconda3/lib/python3.8/site-packages (from requests<3,>=2.21.0->tensorboard<2.3.0,>=2.2.0->tensorflow==2.2.0->marabou==0.1.0) (2.10)\n",
      "Requirement already satisfied: certifi>=2017.4.17 in /Users/balakrishnasg/opt/anaconda3/lib/python3.8/site-packages (from requests<3,>=2.21.0->tensorboard<2.3.0,>=2.2.0->tensorflow==2.2.0->marabou==0.1.0) (2020.6.20)\n",
      "Requirement already satisfied: cachetools<5.0,>=2.0.0 in /Users/balakrishnasg/opt/anaconda3/lib/python3.8/site-packages (from google-auth<2,>=1.6.3->tensorboard<2.3.0,>=2.2.0->tensorflow==2.2.0->marabou==0.1.0) (4.1.1)\n",
      "Requirement already satisfied: pyasn1-modules>=0.2.1 in /Users/balakrishnasg/opt/anaconda3/lib/python3.8/site-packages (from google-auth<2,>=1.6.3->tensorboard<2.3.0,>=2.2.0->tensorflow==2.2.0->marabou==0.1.0) (0.2.8)\n",
      "Requirement already satisfied: rsa<5,>=3.1.4; python_version >= \"3.5\" in /Users/balakrishnasg/opt/anaconda3/lib/python3.8/site-packages (from google-auth<2,>=1.6.3->tensorboard<2.3.0,>=2.2.0->tensorflow==2.2.0->marabou==0.1.0) (4.6)\n",
      "Requirement already satisfied: requests-oauthlib>=0.7.0 in /Users/balakrishnasg/opt/anaconda3/lib/python3.8/site-packages (from google-auth-oauthlib<0.5,>=0.4.1->tensorboard<2.3.0,>=2.2.0->tensorflow==2.2.0->marabou==0.1.0) (1.3.0)\n",
      "Requirement already satisfied: parso<0.8.0,>=0.7.0 in /Users/balakrishnasg/opt/anaconda3/lib/python3.8/site-packages (from jedi>=0.10->ipython>=5.0.0->ipykernel->jupyter->marabou==0.1.0) (0.7.0)\n"
     ]
    },
    {
     "name": "stdout",
     "output_type": "stream",
     "text": [
      "Requirement already satisfied: ptyprocess>=0.5 in /Users/balakrishnasg/opt/anaconda3/lib/python3.8/site-packages (from pexpect; sys_platform != \"win32\"->ipython>=5.0.0->ipykernel->jupyter->marabou==0.1.0) (0.6.0)\n",
      "Requirement already satisfied: attrs>=17.4.0 in /Users/balakrishnasg/opt/anaconda3/lib/python3.8/site-packages (from jsonschema!=2.5.0,>=2.4->nbformat>=4.2.0->ipywidgets->jupyter->marabou==0.1.0) (19.3.0)\n",
      "Requirement already satisfied: pyrsistent>=0.14.0 in /Users/balakrishnasg/opt/anaconda3/lib/python3.8/site-packages (from jsonschema!=2.5.0,>=2.4->nbformat>=4.2.0->ipywidgets->jupyter->marabou==0.1.0) (0.16.0)\n",
      "Requirement already satisfied: pyasn1<0.5.0,>=0.4.6 in /Users/balakrishnasg/opt/anaconda3/lib/python3.8/site-packages (from pyasn1-modules>=0.2.1->google-auth<2,>=1.6.3->tensorboard<2.3.0,>=2.2.0->tensorflow==2.2.0->marabou==0.1.0) (0.4.8)\n",
      "Requirement already satisfied: oauthlib>=3.0.0 in /Users/balakrishnasg/opt/anaconda3/lib/python3.8/site-packages (from requests-oauthlib>=0.7.0->google-auth-oauthlib<0.5,>=0.4.1->tensorboard<2.3.0,>=2.2.0->tensorflow==2.2.0->marabou==0.1.0) (3.1.0)\n",
      "Building wheels for collected packages: marabou\n",
      "  Building wheel for marabou (setup.py) ... \u001b[?25ldone\n",
      "\u001b[?25h  Created wheel for marabou: filename=marabou-0.1.0-py3-none-any.whl size=15252 sha256=90ff9734138156a094b9ec3494e2655758fe35b1e48eaab3c7fb2e43824f8197\n",
      "  Stored in directory: /private/var/folders/hh/4vmlc_2s0qsgs7zw8655v_m40000gn/T/pip-ephem-wheel-cache-1huk6d53/wheels/68/15/b6/3c30f0590869a09c993534ac27d749e549acc3628aabbcb244\n",
      "Successfully built marabou\n",
      "Installing collected packages: marabou\n",
      "  Attempting uninstall: marabou\n",
      "    Found existing installation: marabou 0.1.0\n",
      "    Uninstalling marabou-0.1.0:\n",
      "      Successfully uninstalled marabou-0.1.0\n",
      "Successfully installed marabou-0.1.0\n"
     ]
    }
   ],
   "source": [
    "! pip install .[train]"
   ]
  },
  {
   "cell_type": "code",
   "execution_count": 10,
   "metadata": {
    "colab": {
     "base_uri": "https://localhost:8080/"
    },
    "executionInfo": {
     "elapsed": 1707066,
     "status": "ok",
     "timestamp": 1604503704876,
     "user": {
      "displayName": "Azzouz Marouen",
      "photoUrl": "",
      "userId": "18438028182924348377"
     },
     "user_tz": -60
    },
    "id": "ZgV2idwCqh0k",
    "outputId": "6796f16e-3300-4ec9-8e1d-a5c26a36e670"
   },
   "outputs": [
    {
     "name": "stdout",
     "output_type": "stream",
     "text": [
      "/bin/bash: marabou-train-topic-detection: command not found\r\n"
     ]
    }
   ],
   "source": [
    "! marabou-train-topic-detection"
   ]
  },
  {
   "cell_type": "code",
   "execution_count": null,
   "metadata": {},
   "outputs": [],
   "source": []
  }
 ],
 "metadata": {
  "accelerator": "GPU",
  "colab": {
   "collapsed_sections": [],
   "name": "sentiment_analysis.ipynb",
   "provenance": [],
   "toc_visible": true
  },
  "kernelspec": {
   "display_name": "Python 3",
   "language": "python",
   "name": "python3"
  },
  "language_info": {
   "codemirror_mode": {
    "name": "ipython",
    "version": 3
   },
   "file_extension": ".py",
   "mimetype": "text/x-python",
   "name": "python",
   "nbconvert_exporter": "python",
   "pygments_lexer": "ipython3",
   "version": "3.8.3"
  }
 },
 "nbformat": 4,
 "nbformat_minor": 1
}
