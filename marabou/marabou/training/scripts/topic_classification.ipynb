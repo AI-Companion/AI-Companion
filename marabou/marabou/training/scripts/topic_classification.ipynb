{
  "nbformat": 4,
  "nbformat_minor": 0,
  "metadata": {
    "colab": {
      "name": "topic_classification.ipynb",
      "provenance": [],
      "collapsed_sections": []
    },
    "kernelspec": {
      "name": "python3",
      "display_name": "Python 3"
    },
    "accelerator": "GPU"
  },
  "cells": [
    {
      "cell_type": "markdown",
      "metadata": {
        "id": "5dlZY8ZFcSC4"
      },
      "source": [
        "## Clone repo and run training script"
      ]
    },
    {
      "cell_type": "code",
      "metadata": {
        "id": "tBfErL-GqJhI"
      },
      "source": [
        "! git clone https://github.com/AI-Companion/marabou.git\n",
        "import os\n",
        "os.environ['MARABOU_HOME'] = \"/content/marabou\"\n",
        "% cd marabou/marabou\n",
        "! pip install .[train]"
      ],
      "execution_count": null,
      "outputs": []
    },
    {
      "cell_type": "code",
      "metadata": {
        "id": "xJkSq2aR1sz8"
      },
      "source": [
        "! marabou-train-topic-detection"
      ],
      "execution_count": null,
      "outputs": []
    }
  ]
}