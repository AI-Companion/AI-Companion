{
  "nbformat": 4,
  "nbformat_minor": 0,
  "metadata": {
    "colab": {
      "name": "train_chain_named_entity_recognition.ipynb",
      "provenance": [],
      "collapsed_sections": [],
      "toc_visible": true
    },
    "kernelspec": {
      "name": "python3",
      "display_name": "Python 3"
    },
    "accelerator": "GPU"
  },
  "cells": [
    {
      "cell_type": "markdown",
      "metadata": {
        "id": "5dlZY8ZFcSC4"
      },
      "source": [
        "## Clone repo and run training script"
      ]
    },
    {
      "cell_type": "code",
      "metadata": {
        "id": "FddcJqqkEFh0",
        "colab": {
          "base_uri": "https://localhost:8080/"
        },
        "outputId": "d2346f4b-bb42-4d79-b383-afc0b685232d"
      },
      "source": [
        "!pip install tensorflow-addons wget"
      ],
      "execution_count": 1,
      "outputs": [
        {
          "output_type": "stream",
          "text": [
            "Collecting tensorflow-addons\n",
            "\u001b[?25l  Downloading https://files.pythonhosted.org/packages/74/e3/56d2fe76f0bb7c88ed9b2a6a557e25e83e252aec08f13de34369cd850a0b/tensorflow_addons-0.12.1-cp37-cp37m-manylinux2010_x86_64.whl (703kB)\n",
            "\r\u001b[K     |▌                               | 10kB 21.2MB/s eta 0:00:01\r\u001b[K     |█                               | 20kB 14.5MB/s eta 0:00:01\r\u001b[K     |█▍                              | 30kB 12.9MB/s eta 0:00:01\r\u001b[K     |█▉                              | 40kB 12.1MB/s eta 0:00:01\r\u001b[K     |██▎                             | 51kB 7.6MB/s eta 0:00:01\r\u001b[K     |██▉                             | 61kB 8.1MB/s eta 0:00:01\r\u001b[K     |███▎                            | 71kB 8.4MB/s eta 0:00:01\r\u001b[K     |███▊                            | 81kB 9.3MB/s eta 0:00:01\r\u001b[K     |████▏                           | 92kB 9.4MB/s eta 0:00:01\r\u001b[K     |████▋                           | 102kB 8.4MB/s eta 0:00:01\r\u001b[K     |█████▏                          | 112kB 8.4MB/s eta 0:00:01\r\u001b[K     |█████▋                          | 122kB 8.4MB/s eta 0:00:01\r\u001b[K     |██████                          | 133kB 8.4MB/s eta 0:00:01\r\u001b[K     |██████▌                         | 143kB 8.4MB/s eta 0:00:01\r\u001b[K     |███████                         | 153kB 8.4MB/s eta 0:00:01\r\u001b[K     |███████▌                        | 163kB 8.4MB/s eta 0:00:01\r\u001b[K     |████████                        | 174kB 8.4MB/s eta 0:00:01\r\u001b[K     |████████▍                       | 184kB 8.4MB/s eta 0:00:01\r\u001b[K     |████████▉                       | 194kB 8.4MB/s eta 0:00:01\r\u001b[K     |█████████▎                      | 204kB 8.4MB/s eta 0:00:01\r\u001b[K     |█████████▉                      | 215kB 8.4MB/s eta 0:00:01\r\u001b[K     |██████████▎                     | 225kB 8.4MB/s eta 0:00:01\r\u001b[K     |██████████▊                     | 235kB 8.4MB/s eta 0:00:01\r\u001b[K     |███████████▏                    | 245kB 8.4MB/s eta 0:00:01\r\u001b[K     |███████████▋                    | 256kB 8.4MB/s eta 0:00:01\r\u001b[K     |████████████▏                   | 266kB 8.4MB/s eta 0:00:01\r\u001b[K     |████████████▋                   | 276kB 8.4MB/s eta 0:00:01\r\u001b[K     |█████████████                   | 286kB 8.4MB/s eta 0:00:01\r\u001b[K     |█████████████▌                  | 296kB 8.4MB/s eta 0:00:01\r\u001b[K     |██████████████                  | 307kB 8.4MB/s eta 0:00:01\r\u001b[K     |██████████████▍                 | 317kB 8.4MB/s eta 0:00:01\r\u001b[K     |███████████████                 | 327kB 8.4MB/s eta 0:00:01\r\u001b[K     |███████████████▍                | 337kB 8.4MB/s eta 0:00:01\r\u001b[K     |███████████████▉                | 348kB 8.4MB/s eta 0:00:01\r\u001b[K     |████████████████▎               | 358kB 8.4MB/s eta 0:00:01\r\u001b[K     |████████████████▊               | 368kB 8.4MB/s eta 0:00:01\r\u001b[K     |█████████████████▎              | 378kB 8.4MB/s eta 0:00:01\r\u001b[K     |█████████████████▊              | 389kB 8.4MB/s eta 0:00:01\r\u001b[K     |██████████████████▏             | 399kB 8.4MB/s eta 0:00:01\r\u001b[K     |██████████████████▋             | 409kB 8.4MB/s eta 0:00:01\r\u001b[K     |███████████████████             | 419kB 8.4MB/s eta 0:00:01\r\u001b[K     |███████████████████▋            | 430kB 8.4MB/s eta 0:00:01\r\u001b[K     |████████████████████            | 440kB 8.4MB/s eta 0:00:01\r\u001b[K     |████████████████████▌           | 450kB 8.4MB/s eta 0:00:01\r\u001b[K     |█████████████████████           | 460kB 8.4MB/s eta 0:00:01\r\u001b[K     |█████████████████████▍          | 471kB 8.4MB/s eta 0:00:01\r\u001b[K     |██████████████████████          | 481kB 8.4MB/s eta 0:00:01\r\u001b[K     |██████████████████████▍         | 491kB 8.4MB/s eta 0:00:01\r\u001b[K     |██████████████████████▉         | 501kB 8.4MB/s eta 0:00:01\r\u001b[K     |███████████████████████▎        | 512kB 8.4MB/s eta 0:00:01\r\u001b[K     |███████████████████████▊        | 522kB 8.4MB/s eta 0:00:01\r\u001b[K     |████████████████████████▎       | 532kB 8.4MB/s eta 0:00:01\r\u001b[K     |████████████████████████▊       | 542kB 8.4MB/s eta 0:00:01\r\u001b[K     |█████████████████████████▏      | 552kB 8.4MB/s eta 0:00:01\r\u001b[K     |█████████████████████████▋      | 563kB 8.4MB/s eta 0:00:01\r\u001b[K     |██████████████████████████      | 573kB 8.4MB/s eta 0:00:01\r\u001b[K     |██████████████████████████▋     | 583kB 8.4MB/s eta 0:00:01\r\u001b[K     |███████████████████████████     | 593kB 8.4MB/s eta 0:00:01\r\u001b[K     |███████████████████████████▌    | 604kB 8.4MB/s eta 0:00:01\r\u001b[K     |████████████████████████████    | 614kB 8.4MB/s eta 0:00:01\r\u001b[K     |████████████████████████████▍   | 624kB 8.4MB/s eta 0:00:01\r\u001b[K     |████████████████████████████▉   | 634kB 8.4MB/s eta 0:00:01\r\u001b[K     |█████████████████████████████▍  | 645kB 8.4MB/s eta 0:00:01\r\u001b[K     |█████████████████████████████▉  | 655kB 8.4MB/s eta 0:00:01\r\u001b[K     |██████████████████████████████▎ | 665kB 8.4MB/s eta 0:00:01\r\u001b[K     |██████████████████████████████▊ | 675kB 8.4MB/s eta 0:00:01\r\u001b[K     |███████████████████████████████▏| 686kB 8.4MB/s eta 0:00:01\r\u001b[K     |███████████████████████████████▊| 696kB 8.4MB/s eta 0:00:01\r\u001b[K     |████████████████████████████████| 706kB 8.4MB/s \n",
            "\u001b[?25hCollecting wget\n",
            "  Downloading https://files.pythonhosted.org/packages/47/6a/62e288da7bcda82b935ff0c6cfe542970f04e29c756b0e147251b2fb251f/wget-3.2.zip\n",
            "Requirement already satisfied: typeguard>=2.7 in /usr/local/lib/python3.7/dist-packages (from tensorflow-addons) (2.7.1)\n",
            "Building wheels for collected packages: wget\n",
            "  Building wheel for wget (setup.py) ... \u001b[?25l\u001b[?25hdone\n",
            "  Created wheel for wget: filename=wget-3.2-cp37-none-any.whl size=9681 sha256=edf9dfb95fa1678e4d5fd34a98d8e9d67be573d4bc2316fde7094f535a6dbc3c\n",
            "  Stored in directory: /root/.cache/pip/wheels/40/15/30/7d8f7cea2902b4db79e3fea550d7d7b85ecb27ef992b618f3f\n",
            "Successfully built wget\n",
            "Installing collected packages: tensorflow-addons, wget\n",
            "Successfully installed tensorflow-addons-0.12.1 wget-3.2\n"
          ],
          "name": "stdout"
        }
      ]
    },
    {
      "cell_type": "code",
      "metadata": {
        "id": "ZgV2idwCqh0k",
        "colab": {
          "base_uri": "https://localhost:8080/"
        },
        "outputId": "f5633e2d-11b2-4aaf-ece9-97501b745694"
      },
      "source": [
        "import os\n",
        "! git clone -b refactor_code https://github.com/AI-Companion/AI-Companion.git\n",
        "os.environ['PYTHONPATH'] += \":/content/AI-Companion/marabou/\""
      ],
      "execution_count": 2,
      "outputs": [
        {
          "output_type": "stream",
          "text": [
            "Cloning into 'AI-Companion'...\n",
            "remote: Enumerating objects: 73, done.\u001b[K\n",
            "remote: Counting objects: 100% (73/73), done.\u001b[K\n",
            "remote: Compressing objects: 100% (50/50), done.\u001b[K\n",
            "remote: Total 11513 (delta 31), reused 55 (delta 23), pack-reused 11440\u001b[K\n",
            "Receiving objects: 100% (11513/11513), 97.55 MiB | 33.76 MiB/s, done.\n",
            "Resolving deltas: 100% (4336/4336), done.\n"
          ],
          "name": "stdout"
        }
      ]
    },
    {
      "cell_type": "code",
      "metadata": {
        "id": "BHXCPvq1uI8r",
        "colab": {
          "base_uri": "https://localhost:8080/"
        },
        "outputId": "0e92e6fa-6184-4d42-b832-7c9354f7a28c"
      },
      "source": [
        "! python AI-Companion/marabou/marabou/training/scripts/train_named_entity_recognition.py"
      ],
      "execution_count": 3,
      "outputs": [
        {
          "output_type": "stream",
          "text": [
            "2021-03-26 14:13:11.874691: I tensorflow/stream_executor/platform/default/dso_loader.cc:49] Successfully opened dynamic library libcudart.so.11.0\n",
            "===========> extracting kaggle ner dataset\n",
            "---> Collecting dataset\n",
            "2021-03-26 14:13:22.214639: I tensorflow/compiler/jit/xla_cpu_device.cc:41] Not creating XLA devices, tf_xla_enable_xla_devices not set\n",
            "2021-03-26 14:13:22.215675: I tensorflow/stream_executor/platform/default/dso_loader.cc:49] Successfully opened dynamic library libcuda.so.1\n",
            "2021-03-26 14:13:22.273381: I tensorflow/stream_executor/cuda/cuda_gpu_executor.cc:941] successful NUMA node read from SysFS had negative value (-1), but there must be at least one NUMA node, so returning NUMA node zero\n",
            "2021-03-26 14:13:22.274028: I tensorflow/core/common_runtime/gpu/gpu_device.cc:1720] Found device 0 with properties: \n",
            "pciBusID: 0000:00:04.0 name: Tesla T4 computeCapability: 7.5\n",
            "coreClock: 1.59GHz coreCount: 40 deviceMemorySize: 14.75GiB deviceMemoryBandwidth: 298.08GiB/s\n",
            "2021-03-26 14:13:22.274095: I tensorflow/stream_executor/platform/default/dso_loader.cc:49] Successfully opened dynamic library libcudart.so.11.0\n",
            "2021-03-26 14:13:22.333424: I tensorflow/stream_executor/platform/default/dso_loader.cc:49] Successfully opened dynamic library libcublas.so.11\n",
            "2021-03-26 14:13:22.333525: I tensorflow/stream_executor/platform/default/dso_loader.cc:49] Successfully opened dynamic library libcublasLt.so.11\n",
            "2021-03-26 14:13:22.472847: I tensorflow/stream_executor/platform/default/dso_loader.cc:49] Successfully opened dynamic library libcufft.so.10\n",
            "2021-03-26 14:13:22.518589: I tensorflow/stream_executor/platform/default/dso_loader.cc:49] Successfully opened dynamic library libcurand.so.10\n",
            "2021-03-26 14:13:22.763182: I tensorflow/stream_executor/platform/default/dso_loader.cc:49] Successfully opened dynamic library libcusolver.so.10\n",
            "2021-03-26 14:13:22.815370: I tensorflow/stream_executor/platform/default/dso_loader.cc:49] Successfully opened dynamic library libcusparse.so.11\n",
            "2021-03-26 14:13:22.819062: I tensorflow/stream_executor/platform/default/dso_loader.cc:49] Successfully opened dynamic library libcudnn.so.8\n",
            "2021-03-26 14:13:22.819210: I tensorflow/stream_executor/cuda/cuda_gpu_executor.cc:941] successful NUMA node read from SysFS had negative value (-1), but there must be at least one NUMA node, so returning NUMA node zero\n",
            "2021-03-26 14:13:22.819847: I tensorflow/stream_executor/cuda/cuda_gpu_executor.cc:941] successful NUMA node read from SysFS had negative value (-1), but there must be at least one NUMA node, so returning NUMA node zero\n",
            "2021-03-26 14:13:22.823208: I tensorflow/core/common_runtime/gpu/gpu_device.cc:1862] Adding visible gpu devices: 0\n",
            "2021-03-26 14:13:22.823900: I tensorflow/compiler/jit/xla_gpu_device.cc:99] Not creating XLA devices, tf_xla_enable_xla_devices not set\n",
            "2021-03-26 14:13:22.824012: I tensorflow/stream_executor/cuda/cuda_gpu_executor.cc:941] successful NUMA node read from SysFS had negative value (-1), but there must be at least one NUMA node, so returning NUMA node zero\n",
            "2021-03-26 14:13:22.824632: I tensorflow/core/common_runtime/gpu/gpu_device.cc:1720] Found device 0 with properties: \n",
            "pciBusID: 0000:00:04.0 name: Tesla T4 computeCapability: 7.5\n",
            "coreClock: 1.59GHz coreCount: 40 deviceMemorySize: 14.75GiB deviceMemoryBandwidth: 298.08GiB/s\n",
            "2021-03-26 14:13:22.824671: I tensorflow/stream_executor/platform/default/dso_loader.cc:49] Successfully opened dynamic library libcudart.so.11.0\n",
            "2021-03-26 14:13:22.824714: I tensorflow/stream_executor/platform/default/dso_loader.cc:49] Successfully opened dynamic library libcublas.so.11\n",
            "2021-03-26 14:13:22.824738: I tensorflow/stream_executor/platform/default/dso_loader.cc:49] Successfully opened dynamic library libcublasLt.so.11\n",
            "2021-03-26 14:13:22.824760: I tensorflow/stream_executor/platform/default/dso_loader.cc:49] Successfully opened dynamic library libcufft.so.10\n",
            "2021-03-26 14:13:22.824781: I tensorflow/stream_executor/platform/default/dso_loader.cc:49] Successfully opened dynamic library libcurand.so.10\n",
            "2021-03-26 14:13:22.824802: I tensorflow/stream_executor/platform/default/dso_loader.cc:49] Successfully opened dynamic library libcusolver.so.10\n",
            "2021-03-26 14:13:22.824823: I tensorflow/stream_executor/platform/default/dso_loader.cc:49] Successfully opened dynamic library libcusparse.so.11\n",
            "2021-03-26 14:13:22.824843: I tensorflow/stream_executor/platform/default/dso_loader.cc:49] Successfully opened dynamic library libcudnn.so.8\n",
            "2021-03-26 14:13:22.824910: I tensorflow/stream_executor/cuda/cuda_gpu_executor.cc:941] successful NUMA node read from SysFS had negative value (-1), but there must be at least one NUMA node, so returning NUMA node zero\n",
            "2021-03-26 14:13:22.825501: I tensorflow/stream_executor/cuda/cuda_gpu_executor.cc:941] successful NUMA node read from SysFS had negative value (-1), but there must be at least one NUMA node, so returning NUMA node zero\n",
            "2021-03-26 14:13:22.826009: I tensorflow/core/common_runtime/gpu/gpu_device.cc:1862] Adding visible gpu devices: 0\n",
            "2021-03-26 14:13:22.828992: I tensorflow/stream_executor/platform/default/dso_loader.cc:49] Successfully opened dynamic library libcudart.so.11.0\n",
            "2021-03-26 14:13:27.239465: I tensorflow/core/common_runtime/gpu/gpu_device.cc:1261] Device interconnect StreamExecutor with strength 1 edge matrix:\n",
            "2021-03-26 14:13:27.239518: I tensorflow/core/common_runtime/gpu/gpu_device.cc:1267]      0 \n",
            "2021-03-26 14:13:27.239533: I tensorflow/core/common_runtime/gpu/gpu_device.cc:1280] 0:   N \n",
            "2021-03-26 14:13:27.245383: I tensorflow/stream_executor/cuda/cuda_gpu_executor.cc:941] successful NUMA node read from SysFS had negative value (-1), but there must be at least one NUMA node, so returning NUMA node zero\n",
            "2021-03-26 14:13:27.246122: I tensorflow/stream_executor/cuda/cuda_gpu_executor.cc:941] successful NUMA node read from SysFS had negative value (-1), but there must be at least one NUMA node, so returning NUMA node zero\n",
            "2021-03-26 14:13:27.246731: I tensorflow/stream_executor/cuda/cuda_gpu_executor.cc:941] successful NUMA node read from SysFS had negative value (-1), but there must be at least one NUMA node, so returning NUMA node zero\n",
            "2021-03-26 14:13:27.247282: W tensorflow/core/common_runtime/gpu/gpu_bfc_allocator.cc:39] Overriding allow_growth setting because the TF_FORCE_GPU_ALLOW_GROWTH environment variable is set. Original config value was 0.\n",
            "2021-03-26 14:13:27.247331: I tensorflow/core/common_runtime/gpu/gpu_device.cc:1406] Created TensorFlow device (/job:localhost/replica:0/task:0/device:GPU:0 with 13994 MB memory) -> physical GPU (device: 0, name: Tesla T4, pci bus id: 0000:00:04.0, compute capability: 7.5)\n",
            "2021-03-26 14:13:27.524424: I tensorflow/compiler/mlir/mlir_graph_optimization_pass.cc:116] None of the MLIR optimization passes are enabled (registered 2)\n",
            "2021-03-26 14:13:27.526860: I tensorflow/core/platform/profile_utils/cpu_utils.cc:112] CPU Frequency: 2199995000 Hz\n",
            "WARNING:tensorflow:Layer lstm will not use cuDNN kernel since it doesn't meet the cuDNN kernel criteria. It will use generic GPU kernel as fallback when running on GPU\n",
            "WARNING:tensorflow:Layer lstm will not use cuDNN kernel since it doesn't meet the cuDNN kernel criteria. It will use generic GPU kernel as fallback when running on GPU\n",
            "WARNING:tensorflow:Layer lstm will not use cuDNN kernel since it doesn't meet the cuDNN kernel criteria. It will use generic GPU kernel as fallback when running on GPU\n",
            "WARNING:tensorflow:Layer lstm_1 will not use cuDNN kernel since it doesn't meet the cuDNN kernel criteria. It will use generic GPU kernel as fallback when running on GPU\n",
            "WARNING:tensorflow:Layer lstm_1 will not use cuDNN kernel since it doesn't meet the cuDNN kernel criteria. It will use generic GPU kernel as fallback when running on GPU\n",
            "WARNING:tensorflow:Layer lstm_1 will not use cuDNN kernel since it doesn't meet the cuDNN kernel criteria. It will use generic GPU kernel as fallback when running on GPU\n",
            "Model: \"model\"\n",
            "__________________________________________________________________________________________________\n",
            "Layer (type)                    Output Shape         Param #     Connected to                     \n",
            "==================================================================================================\n",
            "input (InputLayer)              [(None, 1)]          0                                            \n",
            "__________________________________________________________________________________________________\n",
            "text_vectorization (TextVectori (None, 75)           0           input[0][0]                      \n",
            "__________________________________________________________________________________________________\n",
            "embedding (Embedding)           (None, 75, 70)       490000      text_vectorization[0][0]         \n",
            "__________________________________________________________________________________________________\n",
            "bidirectional (Bidirectional)   (None, 75, 100)      48400       embedding[0][0]                  \n",
            "__________________________________________________________________________________________________\n",
            "bidirectional_1 (Bidirectional) (None, 75, 100)      60400       bidirectional[0][0]              \n",
            "__________________________________________________________________________________________________\n",
            "add (Add)                       (None, 75, 100)      0           bidirectional[0][0]              \n",
            "                                                                 bidirectional_1[0][0]            \n",
            "__________________________________________________________________________________________________\n",
            "time_distributed (TimeDistribut (None, 75, 18)       1818        add[0][0]                        \n",
            "==================================================================================================\n",
            "Total params: 600,618\n",
            "Trainable params: 600,618\n",
            "Non-trainable params: 0\n",
            "__________________________________________________________________________________________________\n",
            "None\n",
            "Epoch 1/3\n",
            "2021-03-26 14:14:00.110608: I tensorflow/stream_executor/platform/default/dso_loader.cc:49] Successfully opened dynamic library libcublas.so.11\n",
            "2021-03-26 14:14:02.634596: I tensorflow/stream_executor/platform/default/dso_loader.cc:49] Successfully opened dynamic library libcublasLt.so.11\n",
            "600/600 [==============================] - 572s 937ms/step - loss: 0.4811 - accuracy: 0.9002 - val_loss: 0.1563 - val_accuracy: 0.9535\n",
            "Epoch 2/3\n",
            "600/600 [==============================] - 561s 936ms/step - loss: 0.1423 - accuracy: 0.9566 - val_loss: 0.1117 - val_accuracy: 0.9632\n",
            "Epoch 3/3\n",
            "600/600 [==============================] - 562s 936ms/step - loss: 0.1095 - accuracy: 0.9637 - val_loss: 0.1035 - val_accuracy: 0.9655\n",
            "2021-03-26 14:42:13.701260: W tensorflow/python/util/util.cc:348] Sets are not currently considered sequences, but this may change in the future, so consider avoiding using them.\n"
          ],
          "name": "stdout"
        }
      ]
    },
    {
      "cell_type": "code",
      "metadata": {
        "colab": {
          "base_uri": "https://localhost:8080/"
        },
        "id": "mtw63g77fwW7",
        "outputId": "17e08745-91ff-45f9-ec91-5bc0e321f8d1"
      },
      "source": [
        "!zip -r /content/ner_rnn_model.zip AI-Companion/marabou/saved_models/"
      ],
      "execution_count": 4,
      "outputs": [
        {
          "output_type": "stream",
          "text": [
            "  adding: AI-Companion/marabou/saved_models/ (stored 0%)\n",
            "  adding: AI-Companion/marabou/saved_models/ner_rnn.png (deflated 9%)\n",
            "  adding: AI-Companion/marabou/saved_models/rnn2/ (stored 0%)\n",
            "  adding: AI-Companion/marabou/saved_models/rnn2/saved_model.pb (deflated 90%)\n",
            "  adding: AI-Companion/marabou/saved_models/rnn2/variables/ (stored 0%)\n",
            "  adding: AI-Companion/marabou/saved_models/rnn2/variables/variables.index (deflated 52%)\n",
            "  adding: AI-Companion/marabou/saved_models/rnn2/variables/variables.data-00000-of-00001 (deflated 10%)\n",
            "  adding: AI-Companion/marabou/saved_models/rnn2/assets/ (stored 0%)\n",
            "  adding: AI-Companion/marabou/saved_models/readme.txt (deflated 8%)\n"
          ],
          "name": "stdout"
        }
      ]
    }
  ]
}